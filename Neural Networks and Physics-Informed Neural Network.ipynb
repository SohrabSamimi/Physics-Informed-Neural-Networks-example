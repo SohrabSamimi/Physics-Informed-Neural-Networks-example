{
 "cells": [
  {
   "cell_type": "code",
   "execution_count": 496,
   "metadata": {},
   "outputs": [],
   "source": [
    "import torch\n",
    "import torch.nn as nn\n",
    "from torch.utils.data import Dataset,DataLoader\n",
    "import numpy as np\n",
    "import torch.optim\n",
    "import matplotlib.pyplot as plt\n",
    "import torch.autograd"
   ]
  },
  {
   "attachments": {},
   "cell_type": "markdown",
   "metadata": {},
   "source": [
    "We create our training and test data:"
   ]
  },
  {
   "cell_type": "code",
   "execution_count": null,
   "metadata": {},
   "outputs": [],
   "source": [
    "mesh = torch.linspace(0,2*np.pi,201)\n",
    "cos_mesh = torch.cos(mesh)\n",
    "dataset = torch.stack((mesh,cos_mesh))\n",
    "nb_train = int(dataset.shape[1] *0.8)\n",
    "data_train = dataset[:,:nb_train]\n",
    "data_test = dataset[:,nb_train:]\n"
   ]
  },
  {
   "attachments": {},
   "cell_type": "markdown",
   "metadata": {},
   "source": [
    "Plot of the cosine function:"
   ]
  },
  {
   "cell_type": "code",
   "execution_count": 498,
   "metadata": {},
   "outputs": [
    {
     "data": {
      "image/png": "[encoded data removed]",
      "text/plain": [
       "<Figure size 432x288 with 1 Axes>"
      ]
     },
     "metadata": {
      "needs_background": "light"
     },
     "output_type": "display_data"
    }
   ],
   "source": [
    "plt.plot(mesh,cos_mesh)\n",
    "plt.show()"
   ]
  },
  {
   "attachments": {},
   "cell_type": "markdown",
   "metadata": {},
   "source": [
    "We define our inputs and labels in the getitem method:"
   ]
  },
  {
   "cell_type": "code",
   "execution_count": 499,
   "metadata": {},
   "outputs": [],
   "source": [
    "class Cosine(Dataset):\n",
    "    def __init__(self,dataset):\n",
    "        super().__init__()\n",
    "\n",
    "        self.dataset = dataset\n",
    "\n",
    "    def __getitem__(self,idx):\n",
    "        return self.dataset[0,idx], self.dataset[1,idx]\n",
    "\n",
    "\n",
    "    def __len__(self):\n",
    "\n",
    "        return self.dataset.shape[1]   \n"
   ]
  },
  {
   "attachments": {},
   "cell_type": "markdown",
   "metadata": {},
   "source": [
    "Regular Neural Network class:"
   ]
  },
  {
   "cell_type": "code",
   "execution_count": 500,
   "metadata": {},
   "outputs": [],
   "source": [
    "class Neural_Net(nn.Module):\n",
    "    def __init__(self,nb_layers,input_dim,latent_dim,output_dim,activation):\n",
    "        super().__init__()\n",
    "\n",
    "        self.nb_layers = nb_layers\n",
    "        self.input_dim = input_dim\n",
    "        self.latent_dim = latent_dim\n",
    "        self.output_dim = output_dim\n",
    "        self.activation = activation\n",
    "        self.layers = nn.ModuleList([nn.Linear(input_dim,latent_dim)])\n",
    "        for i in range(self.nb_layers-1):\n",
    "            self.layers.append(nn.Linear(latent_dim,latent_dim))\n",
    "\n",
    "        self.last_layer = nn.Linear(latent_dim,output_dim)    \n",
    "\n",
    "    def forward(self,x):\n",
    "\n",
    "        inputs = [x]\n",
    "        for j in range(self.nb_layers):\n",
    "            a = self.layers[j](inputs[j])\n",
    "            \"\"\"do not forget ACTIVATION FUNCTION!!!!!\"\"\"\n",
    "            if j%2 == 0:\n",
    "                b = self.activation[0](a)\n",
    "            else:\n",
    "                b = self.activation[1](a)    \n",
    "            inputs.append(b)\n",
    "        \n",
    "        output = self.last_layer(inputs[-1])\n",
    "        return output      \n"
   ]
  },
  {
   "cell_type": "code",
   "execution_count": 501,
   "metadata": {},
   "outputs": [],
   "source": [
    "cos_train = Cosine(dataset=data_train)\n",
    "cos_test = Cosine(dataset=data_test)\n",
    "BATCH_SIZE = 25\n",
    "N_EPOCHS = 2000\n",
    "LR = 1e-3\n",
    "INPUT_DIM = 1\n",
    "LATENT_DIM = 20\n",
    "OUTPUT_DIM = 1\n",
    "activation = [nn.Tanh(),nn.Tanh()]\n",
    "NB_LAYERS = 3\n",
    "EVERY_EP = 200\n",
    "ALPHA = 0.1"
   ]
  },
  {
   "cell_type": "code",
   "execution_count": 502,
   "metadata": {},
   "outputs": [],
   "source": [
    "NN = Neural_Net(nb_layers=NB_LAYERS,input_dim=INPUT_DIM,latent_dim=LATENT_DIM,output_dim=OUTPUT_DIM,activation=activation)"
   ]
  },
  {
   "cell_type": "code",
   "execution_count": 503,
   "metadata": {},
   "outputs": [],
   "source": [
    "optimizer = torch.optim.Adam(NN.parameters(),lr=LR)"
   ]
  },
  {
   "cell_type": "code",
   "execution_count": 504,
   "metadata": {},
   "outputs": [],
   "source": [
    "train_loader = DataLoader(dataset=cos_train,batch_size=BATCH_SIZE,shuffle=True,drop_last=True)\n",
    "test_loader = DataLoader(dataset=cos_test,batch_size=BATCH_SIZE,shuffle=False,drop_last=True)"
   ]
  },
  {
   "attachments": {},
   "cell_type": "markdown",
   "metadata": {},
   "source": [
    "We train our model:"
   ]
  },
  {
   "cell_type": "code",
   "execution_count": 505,
   "metadata": {},
   "outputs": [
    {
     "name": "stdout",
     "output_type": "stream",
     "text": [
      "Epoch: 0 , Loss Train: 0.6340159773826599, Loss Test: 0.15560945868492126\n"
     ]
    },
    {
     "name": "stdout",
     "output_type": "stream",
     "text": [
      "Epoch: 200 , Loss Train: 0.0006150802364572883, Loss Test: 0.04078071936964989\n",
      "Epoch: 400 , Loss Train: 3.398525223019533e-05, Loss Test: 0.049091700464487076\n",
      "Epoch: 600 , Loss Train: 4.015390368294902e-05, Loss Test: 0.05077070742845535\n",
      "Epoch: 800 , Loss Train: 1.1352333785907831e-05, Loss Test: 0.04775591194629669\n",
      "Epoch: 1000 , Loss Train: 3.840624685835792e-06, Loss Test: 0.04609956219792366\n",
      "Epoch: 1200 , Loss Train: 2.2738528059562668e-05, Loss Test: 0.045674607157707214\n",
      "Epoch: 1400 , Loss Train: 0.0001378899032715708, Loss Test: 0.045214466750621796\n",
      "Epoch: 1600 , Loss Train: 3.3095761864387896e-06, Loss Test: 0.044421423226594925\n",
      "Epoch: 1800 , Loss Train: 1.1909870408999268e-05, Loss Test: 0.04379727318882942\n"
     ]
    }
   ],
   "source": [
    "loss_train = 0\n",
    "l=torch.tensor([0.])\n",
    "for epoch in range(N_EPOCHS):\n",
    "\n",
    "    \n",
    "\n",
    "\n",
    "    for n_batch,batch in enumerate(train_loader):\n",
    "        x,labels = batch\n",
    "        outputs = NN(x.view(BATCH_SIZE,INPUT_DIM))\n",
    "        \n",
    "        loss = torch.mean((outputs-labels.view(BATCH_SIZE,INPUT_DIM))**2)\n",
    "           \n",
    "\n",
    "        loss_train += loss.detach()\n",
    "        \n",
    "        loss.backward()\n",
    "        optimizer.step()\n",
    "        optimizer.zero_grad()\n",
    "\n",
    "    loss_train /= (len(train_loader.dataset))\n",
    "    loss_train *= BATCH_SIZE \n",
    "    \n",
    "    loss_test = 0\n",
    "    with torch.no_grad():\n",
    "        for n_batch,batch in enumerate(test_loader):\n",
    "            a,l =  batch \n",
    "\n",
    "            out = NN(a.view(BATCH_SIZE,INPUT_DIM))\n",
    "            \n",
    "            Loss = torch.mean((out-l)**2)    \n",
    "            loss_test += Loss.detach()\n",
    "        loss_test /= (len(test_loader.dataset)) \n",
    "        loss_test *= BATCH_SIZE       \n",
    "        \n",
    "        if epoch%EVERY_EP == 0:\n",
    "            print(f\"Epoch: {epoch} , Loss Train: {loss_train}, Loss Test: {loss_test}\")\n",
    "\n",
    "\n",
    "\n",
    "\n"
   ]
  },
  {
   "attachments": {},
   "cell_type": "markdown",
   "metadata": {},
   "source": [
    "We see here under that the model learns well on the training data, but does not have good performances on the test set."
   ]
  },
  {
   "cell_type": "code",
   "execution_count": 506,
   "metadata": {},
   "outputs": [
    {
     "data": {
      "text/plain": [
       "<matplotlib.legend.Legend at 0x2a626bbc7c0>"
      ]
     },
     "execution_count": 506,
     "metadata": {},
     "output_type": "execute_result"
    },
    {
     "data": {
      "image/png": "[encoded data removed]",
      "text/plain": [
       "<Figure size 432x288 with 1 Axes>"
      ]
     },
     "metadata": {
      "needs_background": "light"
     },
     "output_type": "display_data"
    }
   ],
   "source": [
    "import matplotlib.pyplot as plt\n",
    "\n",
    "grid = torch.linspace(0,2*np.pi,200).view(200,1)\n",
    "cos_grid = torch.cos(grid)\n",
    "y_prediction = NN(grid).detach()\n",
    "\n",
    "plt.plot(grid,cos_grid,label='Cosine')\n",
    "plt.plot(grid,y_prediction,label='Neural Net Prediction')\n",
    "plt.legend()\n",
    "\n"
   ]
  },
  {
   "cell_type": "markdown",
   "metadata": {},
   "source": [
    "We are now going to learn the Cosine function using a completely different method called\n",
    "\n",
    "Physics-Informed Neural Networks: we see the Cosine function as the solution of the differential\n",
    "\n",
    "equation y''+ y = 0 with initial conditions y(0) = 1 and y'(0) = 0."
   ]
  },
  {
   "cell_type": "code",
   "execution_count": 507,
   "metadata": {},
   "outputs": [],
   "source": [
    "Physics_NN = Neural_Net(nb_layers=2,input_dim=1,latent_dim=20,output_dim=1,activation=activation)"
   ]
  },
  {
   "cell_type": "code",
   "execution_count": 512,
   "metadata": {},
   "outputs": [
    {
     "name": "stderr",
     "output_type": "stream",
     "text": [
      "<ipython-input-512-9743f25be038>:5: MatplotlibDeprecationWarning: Case-insensitive properties were deprecated in 3.3 and support will be removed two minor releases later\n",
      "  plt.scatter(x.detach(),torch.cos(x.detach()),Color='g')\n"
     ]
    },
    {
     "data": {
      "text/plain": [
       "<matplotlib.collections.PathCollection at 0x2a626bf45b0>"
      ]
     },
     "execution_count": 512,
     "metadata": {},
     "output_type": "execute_result"
    },
    {
     "data": {
      "image/png": "[encoded data removed]",
      "text/plain": [
       "<Figure size 432x288 with 1 Axes>"
      ]
     },
     "metadata": {
      "needs_background": "light"
     },
     "output_type": "display_data"
    }
   ],
   "source": [
    "physics_optimizer = torch.optim.Adam(Physics_NN.parameters(),lr=LR)\n",
    "epochs = 5000\n",
    "nb_points = 15\n",
    "x = torch.linspace(0,2*np.pi,nb_points).view(nb_points,1).requires_grad_()\n",
    "plt.scatter(x.detach(),torch.cos(x.detach()),Color='g')\n"
   ]
  },
  {
   "cell_type": "markdown",
   "metadata": {},
   "source": [
    "Here we implement the Physics-Informed Neural Networks by adding three losses:\n",
    "\n",
    "one loss on the sum of the second derivative y'' and y, and two initial condition losses,\n",
    "\n",
    "the goal is to minimize y''+ y , y(0)-1 , and y'(0) in order to get a prediction that\n",
    "\n",
    "respects the differential equation."
   ]
  },
  {
   "cell_type": "code",
   "execution_count": 509,
   "metadata": {},
   "outputs": [
    {
     "name": "stdout",
     "output_type": "stream",
     "text": [
      "loss_train 1.1131298542022705 epoch 0\n",
      "loss_train 0.10218880325555801 epoch 100\n",
      "loss_train 0.08144144713878632 epoch 200\n",
      "loss_train 0.07179625332355499 epoch 300\n",
      "loss_train 0.06024612858891487 epoch 400\n",
      "loss_train 0.04881597310304642 epoch 500\n",
      "loss_train 0.039725031703710556 epoch 600\n",
      "loss_train 0.03405407443642616 epoch 700\n",
      "loss_train 0.030407626181840897 epoch 800\n",
      "loss_train 0.027672478929162025 epoch 900\n",
      "loss_train 0.025304432958364487 epoch 1000\n",
      "loss_train 0.023144222795963287 epoch 1100\n",
      "loss_train 0.02114269882440567 epoch 1200\n",
      "loss_train 0.019531147554516792 epoch 1300\n",
      "loss_train 0.01845249906182289 epoch 1400\n",
      "loss_train 0.017166947945952415 epoch 1500\n",
      "loss_train 0.015485519543290138 epoch 1600\n",
      "loss_train 0.013913593254983425 epoch 1700\n",
      "loss_train 0.01277534756809473 epoch 1800\n",
      "loss_train 0.011739267967641354 epoch 1900\n",
      "loss_train 0.010632095858454704 epoch 2000\n",
      "loss_train 0.009430063888430595 epoch 2100\n",
      "loss_train 0.008122670464217663 epoch 2200\n",
      "loss_train 0.006654481869190931 epoch 2300\n",
      "loss_train 0.00507786450907588 epoch 2400\n",
      "loss_train 0.003490238217636943 epoch 2500\n",
      "loss_train 0.0021904006134718657 epoch 2600\n",
      "loss_train 0.001336094574071467 epoch 2700\n",
      "loss_train 0.00081391487037763 epoch 2800\n",
      "loss_train 0.0005060083349235356 epoch 2900\n",
      "loss_train 0.0003260810917709023 epoch 3000\n",
      "loss_train 0.00021893178927712142 epoch 3100\n",
      "loss_train 0.00015307888679672033 epoch 3200\n",
      "loss_train 0.00011113158689113334 epoch 3300\n",
      "loss_train 8.428566070506349e-05 epoch 3400\n",
      "loss_train 6.472793756984174e-05 epoch 3500\n",
      "loss_train 5.105121454107575e-05 epoch 3600\n",
      "loss_train 4.14246205764357e-05 epoch 3700\n",
      "loss_train 3.4253887861268595e-05 epoch 3800\n",
      "loss_train 2.8889746317872778e-05 epoch 3900\n",
      "loss_train 2.473471249686554e-05 epoch 4000\n",
      "loss_train 2.201100141974166e-05 epoch 4100\n",
      "loss_train 1.8968445147038437e-05 epoch 4200\n",
      "loss_train 1.7010273950290866e-05 epoch 4300\n",
      "loss_train 1.5303299733204767e-05 epoch 4400\n",
      "loss_train 1.4033798834134359e-05 epoch 4500\n",
      "loss_train 1.2896021871711127e-05 epoch 4600\n",
      "loss_train 4.245698073646054e-05 epoch 4700\n",
      "loss_train 1.1235554666200187e-05 epoch 4800\n",
      "loss_train 1.1749362784030382e-05 epoch 4900\n"
     ]
    }
   ],
   "source": [
    "for ep in range(epochs):\n",
    "    \n",
    "        \n",
    "    y = Physics_NN(x)\n",
    "    dy_dx = torch.autograd.grad(y,x,torch.ones_like(y),create_graph=True)[0] #first derivative of y w.r.t x\n",
    "    \n",
    "    dy_dxx = torch.autograd.grad(dy_dx,x,torch.ones_like(dy_dx),create_graph=True)[0] # second derivative of y w.r.t x\n",
    "    loss_ic_y = (y[0]-1)**2   ### ic stands for initial condition, initial condition y(0) = 1\n",
    "    loss_ic_dy = (dy_dx[0])**2   # initial condition on the first derivative y'(0) = 0\n",
    "    loss_physics = (dy_dxx+y)**2    # we define y''+ y  \n",
    "    loss = torch.mean(loss_ic_y + loss_ic_dy + loss_physics)\n",
    "        \n",
    "    loss.backward()\n",
    "    physics_optimizer.step()  # we minimize the sum of loss_physics and the two ic's so that the Differential Equation loss is small and also the IC terms are small\n",
    "    physics_optimizer.zero_grad()   \n",
    "     \n",
    "\n",
    "    if ep%100==0:\n",
    "        print('loss_train',loss.item(),'epoch',ep)\n",
    "\n",
    "    \n",
    "    \n",
    "\n",
    "\n",
    "    "
   ]
  },


  {
   "cell_type": "markdown",
   "metadata": {},
   "source": [
    "In the beggining we only had 15 points. Below we sample more densely(500 points).\n",
    "\n",
    " we do not see any difference between the true Cosine function and the Neural Network prediction.\n",
    "\n",
    "With only 15 'data' points, the Physics-Informed Neural Network method performs very well.\n",
    "\n",
    "We do not need many points to obtain a good result (at least in dimension 1)."
   ]
  },
  {
   "cell_type": "code",
   "execution_count": 510,
   "metadata": {},
   "outputs": [
    {
     "data": {
      "text/plain": [
       "<matplotlib.legend.Legend at 0x2a626bf4700>"
      ]
     },
     "execution_count": 510,
     "metadata": {},
     "output_type": "execute_result"
    },
    {
     "data": {
      "image/png": "[encoded data removed]",
      "text/plain": [
       "<Figure size 432x288 with 1 Axes>"
      ]
     },
     "metadata": {
      "needs_background": "light"
     },
     "output_type": "display_data"
    }
   ],
   "source": [
    "import matplotlib.pyplot as plt\n",
    "\n",
    "grid = torch.linspace(0,2*np.pi,500).view(500,1).detach()\n",
    "\n",
    "cos_grid = np.cos(grid)\n",
    "physics_prediction = Physics_NN(grid).detach()\n",
    "plt.scatter(x.detach(),torch.cos(x.detach()),color='g',label='Selected Points')\n",
    "plt.plot(grid,cos_grid,label='True Cosine')\n",
    "plt.plot(grid,physics_prediction,label='Neural Network Prediction')\n",
    "plt.legend()"
   ]
  },
  {
   "cell_type": "markdown",
   "metadata": {},
   "source": [
    "We can compute the Mean Squared Error between our NN prediction and the true solution:\n",
    "\n",
    "the error is around 4e-6 which is very low."
   ]
  },
  {
   "cell_type": "code",
   "execution_count": 513,
   "metadata": {},
   "outputs": [
    {
     "name": "stdout",
     "output_type": "stream",
     "text": [
      "Mean Square Error 3.947341610910371e-06\n"
     ]
    }
   ],
   "source": [
    "print('Mean Square Error',criterion(physics_prediction,torch.cos(grid)).item())"
   ]
  }
 ],
 "metadata": {
  "kernelspec": {
   "display_name": "siren",
   "language": "python",
   "name": "siren"
  },
  "language_info": {
   "codemirror_mode": {
    "name": "ipython",
    "version": 3
   },
   "file_extension": ".py",
   "mimetype": "text/x-python",
   "name": "python",
   "nbconvert_exporter": "python",
   "pygments_lexer": "ipython3",
   "version": "3.8.8"
  },
  "orig_nbformat": 4,
  "vscode": {
   "interpreter": {
    "hash": "3fd7d50f492f92212f299a8845947e0f7f02130f4b765f0bc56fac9269ca963c"
   }
  }
 },
 "nbformat": 4,
 "nbformat_minor": 2
}
