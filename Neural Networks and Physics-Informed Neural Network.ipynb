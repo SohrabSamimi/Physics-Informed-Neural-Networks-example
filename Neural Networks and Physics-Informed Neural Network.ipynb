{
 "cells": [
  {
   "cell_type": "markdown",
   "metadata": {},
   "source": [
    "We import a few packages such as Pytorch, Matplotlib and Numpy:"
   ]
  },
  {
   "cell_type": "code",
   "execution_count": 1,
   "metadata": {},
   "outputs": [],
   "source": [
    "import torch\n",
    "import torch.nn as nn\n",
    "from torch.utils.data import Dataset,DataLoader\n",
    "import numpy as np\n",
    "import torch.optim\n",
    "import matplotlib.pyplot as plt\n",
    "import torch.autograd"
   ]
  },
  {
   "attachments": {},
   "cell_type": "markdown",
   "metadata": {},
   "source": [
    "We create our training and test data:\n",
    "\n",
    "we discretize the interval $[0,2\\pi]$ uniformly with 201 points.\n",
    "\n",
    "Then, we split this interval in train set $[0,5]$, and test set $[5,2\\pi]$."
   ]
  },
  {
   "cell_type": "code",
   "execution_count": 2,
   "metadata": {},
   "outputs": [],
   "source": [
    "mesh = torch.linspace(0,2*np.pi,201)\n",
    "cos_mesh = torch.cos(mesh)\n",
    "dataset = torch.stack((mesh,cos_mesh))\n",
    "nb_train = int(dataset.shape[1] *0.8)\n",
    "data_train = dataset[:,:nb_train]\n",
    "data_test = dataset[:,nb_train:]\n"
   ]
  },
  {
   "attachments": {},
   "cell_type": "markdown",
   "metadata": {},
   "source": [
    "Plot of the cosine function on $[0,2\\pi]$"
   ]
  },
  {
   "cell_type": "code",
   "execution_count": 3,
   "metadata": {},
   "outputs": [
    {
     "data": {
      "image/png": "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",
      "text/plain": [
       "<Figure size 432x288 with 1 Axes>"
      ]
     },
     "metadata": {
      "needs_background": "light"
     },
     "output_type": "display_data"
    }
   ],
   "source": [
    "plt.plot(mesh,cos_mesh)\n",
    "plt.show()"
   ]
  },
  {
   "attachments": {},
   "cell_type": "markdown",
   "metadata": {},
   "source": [
    "We define our inputs and labels in the getitem method:"
   ]
  },
  {
   "cell_type": "code",
   "execution_count": 4,
   "metadata": {},
   "outputs": [],
   "source": [
    "class Cosine(Dataset):\n",
    "    def __init__(self,dataset):\n",
    "        super().__init__()\n",
    "\n",
    "        self.dataset = dataset\n",
    "\n",
    "    def __getitem__(self,idx):\n",
    "        return self.dataset[0,idx], self.dataset[1,idx]\n",
    "\n",
    "\n",
    "    def __len__(self):\n",
    "\n",
    "        return self.dataset.shape[1]   \n"
   ]
  },
  {
   "attachments": {},
   "cell_type": "markdown",
   "metadata": {},
   "source": [
    "Regular Neural Network class:"
   ]
  },
  {
   "cell_type": "code",
   "execution_count": 5,
   "metadata": {},
   "outputs": [],
   "source": [
    "class Neural_Net(nn.Module):\n",
    "    def __init__(self,nb_layers,input_dim,latent_dim,output_dim,activation):\n",
    "        super().__init__()\n",
    "\n",
    "        self.nb_layers = nb_layers\n",
    "        self.input_dim = input_dim\n",
    "        self.latent_dim = latent_dim\n",
    "        self.output_dim = output_dim\n",
    "        self.activation = activation\n",
    "        self.layers = nn.ModuleList([nn.Linear(input_dim,latent_dim)])\n",
    "        for i in range(self.nb_layers-1):\n",
    "            self.layers.append(nn.Linear(latent_dim,latent_dim))\n",
    "\n",
    "        self.last_layer = nn.Linear(latent_dim,output_dim)    \n",
    "\n",
    "    def forward(self,x):\n",
    "\n",
    "        inputs = [x]\n",
    "        for j in range(self.nb_layers):\n",
    "            a = self.layers[j](inputs[j])\n",
    "            \"\"\"do not forget ACTIVATION FUNCTION!\"\"\"\n",
    "            if j%2 == 0:\n",
    "                b = self.activation[0](a)\n",
    "            else:\n",
    "                b = self.activation[1](a)    \n",
    "            inputs.append(b)\n",
    "        \n",
    "        output = self.last_layer(inputs[-1])\n",
    "        return output      \n"
   ]
  },
  {
   "cell_type": "code",
   "execution_count": 6,
   "metadata": {},
   "outputs": [],
   "source": [
    "cos_train = Cosine(dataset=data_train)\n",
    "cos_test = Cosine(dataset=data_test)\n",
    "BATCH_SIZE = 25\n",
    "N_EPOCHS = 2000\n",
    "LR = 1e-3\n",
    "INPUT_DIM = 1\n",
    "LATENT_DIM = 20\n",
    "OUTPUT_DIM = 1\n",
    "activation = [nn.Tanh(),nn.Tanh()]\n",
    "NB_LAYERS = 3\n",
    "EVERY_EP = 200\n",
    "ALPHA = 0.1"
   ]
  },
  {
   "cell_type": "code",
   "execution_count": 7,
   "metadata": {},
   "outputs": [],
   "source": [
    "NN = Neural_Net(nb_layers=NB_LAYERS,input_dim=INPUT_DIM,latent_dim=LATENT_DIM,output_dim=OUTPUT_DIM,activation=activation)"
   ]
  },
  {
   "cell_type": "code",
   "execution_count": 8,
   "metadata": {},
   "outputs": [],
   "source": [
    "optimizer = torch.optim.Adam(NN.parameters(),lr=LR)"
   ]
  },
  {
   "cell_type": "code",
   "execution_count": 9,
   "metadata": {},
   "outputs": [],
   "source": [
    "train_loader = DataLoader(dataset=cos_train,batch_size=BATCH_SIZE,shuffle=True,drop_last=True)\n",
    "test_loader = DataLoader(dataset=cos_test,batch_size=BATCH_SIZE,shuffle=False,drop_last=True)"
   ]
  },
  {
   "attachments": {},
   "cell_type": "markdown",
   "metadata": {},
   "source": [
    "We train our baseline NN model with 2000 epochs:"
   ]
  },
  {
   "cell_type": "code",
   "execution_count": 10,
   "metadata": {},
   "outputs": [
    {
     "name": "stdout",
     "output_type": "stream",
     "text": [
      "Epoch: 0 , Loss Train: 0.42142096161842346, Loss Test: 0.36447373032569885\n"
     ]
    },
    {
     "name": "stdout",
     "output_type": "stream",
     "text": [
      "Epoch: 200 , Loss Train: 3.5060467780567706e-05, Loss Test: 0.042896367609500885\n",
      "Epoch: 400 , Loss Train: 8.613860700279474e-06, Loss Test: 0.04578803479671478\n",
      "Epoch: 600 , Loss Train: 9.754988241184037e-06, Loss Test: 0.0444699265062809\n",
      "Epoch: 800 , Loss Train: 0.00034579672501422465, Loss Test: 0.041833724826574326\n",
      "Epoch: 1000 , Loss Train: 4.9224740905629005e-06, Loss Test: 0.04314066842198372\n",
      "Epoch: 1200 , Loss Train: 4.955108124704566e-06, Loss Test: 0.04240865632891655\n",
      "Epoch: 1400 , Loss Train: 3.165318048559129e-05, Loss Test: 0.04233401268720627\n",
      "Epoch: 1600 , Loss Train: 0.0001376462314510718, Loss Test: 0.04125272482633591\n",
      "Epoch: 1800 , Loss Train: 5.143565431353636e-05, Loss Test: 0.04125094413757324\n"
     ]
    }
   ],
   "source": [
    "loss_train = 0\n",
    "l=torch.tensor([0.])\n",
    "for epoch in range(N_EPOCHS):\n",
    "\n",
    "    \n",
    "\n",
    "\n",
    "    for n_batch,batch in enumerate(train_loader):\n",
    "        x,labels = batch\n",
    "        outputs = NN(x.view(BATCH_SIZE,INPUT_DIM))\n",
    "        \n",
    "        loss = torch.mean((outputs-labels.view(BATCH_SIZE,INPUT_DIM))**2)\n",
    "           \n",
    "\n",
    "        loss_train += loss.detach()\n",
    "        \n",
    "        loss.backward()\n",
    "        optimizer.step()\n",
    "        optimizer.zero_grad()\n",
    "\n",
    "    loss_train /= (len(train_loader.dataset))\n",
    "    loss_train *= BATCH_SIZE \n",
    "    \n",
    "    loss_test = 0\n",
    "    with torch.no_grad():\n",
    "        for n_batch,batch in enumerate(test_loader):\n",
    "            a,l =  batch \n",
    "\n",
    "            out = NN(a.view(BATCH_SIZE,INPUT_DIM))\n",
    "            \n",
    "            Loss = torch.mean((out-l)**2)    \n",
    "            loss_test += Loss.detach()\n",
    "        loss_test /= (len(test_loader.dataset)) \n",
    "        loss_test *= BATCH_SIZE       \n",
    "        \n",
    "        if epoch%EVERY_EP == 0:\n",
    "            print(f\"Epoch: {epoch} , Loss Train: {loss_train}, Loss Test: {loss_test}\")\n",
    "\n",
    "\n",
    "\n",
    "\n"
   ]
  },
  {
   "attachments": {},
   "cell_type": "markdown",
   "metadata": {},
   "source": [
    "We see here under that the model learns well on the training data, but does not have good performances on the test set."
   ]
  },
  {
   "cell_type": "code",
   "execution_count": 11,
   "metadata": {},
   "outputs": [
    {
     "data": {
      "text/plain": [
       "<matplotlib.legend.Legend at 0x1663fd86eb0>"
      ]
     },
     "execution_count": 11,
     "metadata": {},
     "output_type": "execute_result"
    },
    {
     "data": {
      "image/png": "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",
      "text/plain": [
       "<Figure size 432x288 with 1 Axes>"
      ]
     },
     "metadata": {
      "needs_background": "light"
     },
     "output_type": "display_data"
    }
   ],
   "source": [
    "import matplotlib.pyplot as plt\n",
    "\n",
    "grid = torch.linspace(0,2*np.pi,200).view(200,1)\n",
    "cos_grid = torch.cos(grid)\n",
    "y_prediction = NN(grid).detach()\n",
    "\n",
    "plt.plot(grid,cos_grid,label='Cosine')\n",
    "plt.plot(grid,y_prediction,label='Neural Net Prediction')\n",
    "plt.legend()\n",
    "\n"
   ]
  },
  {
   "cell_type": "markdown",
   "metadata": {},
   "source": [
    "We are now going to learn the Cosine function using a completely different method called\n",
    "\n",
    "Physics-Informed Neural Networks ($PINNs$):\n",
    "\n",
    "Consider the following differential equation with two initial conditions:\n",
    "\n",
    "\n",
    "$y''(x)+ y(x) = 0, x \\in [0,2\\pi] ,$\n",
    "            \n",
    "$y(0) = 1, $\n",
    "             \n",
    "$y'(0) = 0$\n",
    "\n",
    "\n",
    "\n",
    "\n",
    "\n",
    "\n",
    "\n"
   ]
  },
  {
   "cell_type": "markdown",
   "metadata": {},
   "source": [
    "\n",
    "\n",
    "We know this equation has a unique solution: the cosine.\n",
    "\n",
    "Neural Networks are universal approximators of continuous functions (on compact sets).\n",
    "\n",
    "The idea of PINNs is to parameterize $y$ as a Neural Network $y_\\theta$ :\n",
    "\n",
    "thanks to Automatic Differentiation and more particularly the torch.autograd package, we \n",
    "\n",
    "can compute the derivative $ \\frac{\\partial y}{\\partial x}$ (that is $y'$), and then $ \\frac{\\partial^2 y}{\\partial x^2}$(that is $y''$) at any point $x$,\n",
    "\n",
    " here we choose to evaluate at the points $x_k = \\frac{2k\\pi}{n} , k \\in{0,...,n}$ (and we decide that $n = 14$)."
   ]
  },
  {
   "cell_type": "markdown",
   "metadata": {},
   "source": [
    "Now let us consider the three following losses:\n",
    "\n",
    "$L_1 = (y_\\theta(0)-1)^2$  \n",
    "\n",
    "$L_2 = y'_\\theta(0)^2$   \n",
    "\n",
    "$L_3 = (\\sum_{k=1}^{n} y''(x_k) + y(x_k))^2$ \n",
    "\n",
    "\n",
    "Denoting the final loss $L_\\theta$, we have:\n",
    "\n",
    "$L_\\theta = \\frac{1}{n}(L_1+L_2+L_3)$\n",
    "\n",
    "and we will minimize $L_\\theta$ in order to get a solution that respects this differential equation."
   ]
  },
  {
   "cell_type": "code",
   "execution_count": 32,
   "metadata": {},
   "outputs": [],
   "source": [
    "Physics_NN = Neural_Net(nb_layers=2,input_dim=1,latent_dim=30,output_dim=1,activation=activation)"
   ]
  },
  {
   "cell_type": "code",
   "execution_count": 33,
   "metadata": {},
   "outputs": [
    {
     "name": "stderr",
     "output_type": "stream",
     "text": [
      "<ipython-input-33-1898599cdb6c>:6: MatplotlibDeprecationWarning: Case-insensitive properties were deprecated in 3.3 and support will be removed two minor releases later\n",
      "  plt.scatter(x_15.detach(),torch.cos(x_15.detach()),Color='g')\n"
     ]
    },
    {
     "data": {
      "text/plain": [
       "<matplotlib.collections.PathCollection at 0x16641255880>"
      ]
     },
     "execution_count": 33,
     "metadata": {},
     "output_type": "execute_result"
    },
    {
     "data": {
      "image/png": "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",
      "text/plain": [
       "<Figure size 432x288 with 1 Axes>"
      ]
     },
     "metadata": {
      "needs_background": "light"
     },
     "output_type": "display_data"
    }
   ],
   "source": [
    "physics_optimizer = torch.optim.Adam(Physics_NN.parameters(),lr=LR)\n",
    "epochs = 5000\n",
    "criterion = nn.MSELoss()\n",
    "nb_points = 15\n",
    "x_15 = torch.linspace(0,2*np.pi,nb_points).view(nb_points,1).requires_grad_()\n",
    "plt.scatter(x_15.detach(),torch.cos(x_15.detach()),Color='g')\n"
   ]
  },
  {
   "cell_type": "markdown",
   "metadata": {},
   "source": [
    "Here under, we learn the parameters $\\theta$ : we expect to get a prediction that respects both the differential equation,\n",
    "\n",
    "and the initial conditions, thus should give a correct approximation of the cosine."
   ]
  },
  {
   "cell_type": "code",
   "execution_count": 34,
   "metadata": {},
   "outputs": [
    {
     "name": "stdout",
     "output_type": "stream",
     "text": [
      "loss 1.2068716287612915 epoch 0\n",
      "loss 0.0882355198264122 epoch 100\n",
      "loss 0.07624957710504532 epoch 200\n",
      "loss 0.06278295814990997 epoch 300\n",
      "loss 0.04770702123641968 epoch 400\n",
      "loss 0.03571021556854248 epoch 500\n",
      "loss 0.027398791164159775 epoch 600\n",
      "loss 0.023540794849395752 epoch 700\n",
      "loss 0.022064773365855217 epoch 800\n",
      "loss 0.021239936351776123 epoch 900\n",
      "loss 0.02062981389462948 epoch 1000\n",
      "loss 0.020104944705963135 epoch 1100\n",
      "loss 0.019600961357355118 epoch 1200\n",
      "loss 0.019081909209489822 epoch 1300\n",
      "loss 0.01852060854434967 epoch 1400\n",
      "loss 0.017873574048280716 epoch 1500\n",
      "loss 0.017060495913028717 epoch 1600\n",
      "loss 0.015913067385554314 epoch 1700\n",
      "loss 0.014061634428799152 epoch 1800\n",
      "loss 0.01161856297403574 epoch 1900\n",
      "loss 0.009597872383892536 epoch 2000\n",
      "loss 0.007172928657382727 epoch 2100\n",
      "loss 0.004650753457099199 epoch 2200\n",
      "loss 0.0028389133512973785 epoch 2300\n",
      "loss 0.0013599053490906954 epoch 2400\n",
      "loss 0.0005294287111610174 epoch 2500\n",
      "loss 0.00026647199410945177 epoch 2600\n",
      "loss 0.0001773873227648437 epoch 2700\n",
      "loss 0.00012107710062991828 epoch 2800\n",
      "loss 9.343816054752097e-05 epoch 2900\n",
      "loss 0.00010821400792337954 epoch 3000\n",
      "loss 6.26132678007707e-05 epoch 3100\n",
      "loss 5.571900328504853e-05 epoch 3200\n",
      "loss 4.605719732353464e-05 epoch 3300\n",
      "loss 5.9816571592818946e-05 epoch 3400\n",
      "loss 3.5630389902507886e-05 epoch 3500\n",
      "loss 3.179868508595973e-05 epoch 3600\n",
      "loss 2.8561065846588463e-05 epoch 3700\n",
      "loss 2.5752764486242086e-05 epoch 3800\n",
      "loss 2.3471491658710875e-05 epoch 3900\n",
      "loss 2.1352114345063455e-05 epoch 4000\n",
      "loss 2.1070149159641005e-05 epoch 4100\n",
      "loss 1.8058255591313355e-05 epoch 4200\n",
      "loss 1.6680989574524574e-05 epoch 4300\n",
      "loss 1.548042564536445e-05 epoch 4400\n",
      "loss 1.428128143743379e-05 epoch 4500\n",
      "loss 1.338985293841688e-05 epoch 4600\n",
      "loss 1.2392791177262552e-05 epoch 4700\n",
      "loss 1.4580976312572602e-05 epoch 4800\n",
      "loss 1.0829814527824055e-05 epoch 4900\n"
     ]
    }
   ],
   "source": [
    "for ep in range(epochs):\n",
    "    \n",
    "        \n",
    "    y = Physics_NN(x_15)\n",
    "    dy_dx = torch.autograd.grad(y,x_15,torch.ones_like(y),create_graph=True)[0] ###first derivative of y w.r.t x\n",
    "    \n",
    "    dy_dxx = torch.autograd.grad(dy_dx,x_15,torch.ones_like(dy_dx),create_graph=True)[0] ### second derivative of y w.r.t x\n",
    "    loss_ic_y = (y[0]-1)**2   ### ic stands for initial condition, initial condition y(0) = 1\n",
    "    loss_ic_dy = (dy_dx[0])**2   ### initial condition on the first derivative y'(0) = 0\n",
    "    loss_physics = (dy_dxx+y)**2    ### we define y''+ y  \n",
    "    loss = loss_ic_y + loss_ic_dy + torch.mean(loss_physics)\n",
    "        \n",
    "    loss.backward()\n",
    "    physics_optimizer.step()  ### we minimize the sum of loss_physics and the two ic's so that the Differential Equation loss is small and also the IC terms are small\n",
    "    physics_optimizer.zero_grad()   \n",
    "     \n",
    "\n",
    "    if ep%100==0:\n",
    "        print('loss',loss.item(),'epoch',ep)\n",
    "\n",
    "            \n",
    "\n",
    "    \n",
    "    \n",
    "\n",
    "\n",
    "    "
   ]
  },
  {
   "cell_type": "markdown",
   "metadata": {},
   "source": [
    "In the beggining we only had $15$ points. Below we discretize more densely ($500$ points).\n",
    "\n",
    " We do not see any difference between the true Cosine function and the Neural Network prediction.\n",
    "\n",
    "With only $15$ 'data' points, the Physics-Informed Neural Network method performs very well.\n",
    "\n",
    "We do not need many points to obtain a good result (at least in dimension $1$)."
   ]
  },
  {
   "cell_type": "code",
   "execution_count": 35,
   "metadata": {},
   "outputs": [
    {
     "data": {
      "text/plain": [
       "<matplotlib.legend.Legend at 0x16641285d30>"
      ]
     },
     "execution_count": 35,
     "metadata": {},
     "output_type": "execute_result"
    },
    {
     "data": {
      "image/png": "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",
      "text/plain": [
       "<Figure size 432x288 with 1 Axes>"
      ]
     },
     "metadata": {
      "needs_background": "light"
     },
     "output_type": "display_data"
    }
   ],
   "source": [
    "x = torch.linspace(0,2*np.pi,500).view(500,1).requires_grad_()\n",
    "grid = x.detach()\n",
    "cos_grid = np.cos(grid)\n",
    "y = Physics_NN(x)\n",
    "physics_prediction = y.detach()\n",
    "\n",
    "plt.scatter(x_15.detach(),torch.cos(x_15.detach()),color='g',label='Selected Points')\n",
    "plt.plot(grid,cos_grid,label='True Cosine')\n",
    "plt.plot(grid,physics_prediction,label='Neural Network Prediction')\n",
    "plt.legend()\n"
   ]
  },
  {
   "cell_type": "markdown",
   "metadata": {},
   "source": [
    "We can compute the Mean Squared Error between our $NN$ prediction and the true solution:\n",
    "\n",
    "the error is around $5.10^{-6}$ which is very low."
   ]
  },
  {
   "cell_type": "code",
   "execution_count": 36,
   "metadata": {},
   "outputs": [
    {
     "name": "stdout",
     "output_type": "stream",
     "text": [
      "Mean Square Error 5.219558715907624e-06\n"
     ]
    }
   ],
   "source": [
    "print('Mean Square Error',criterion(physics_prediction,torch.cos(grid)).item())"
   ]
  },
  {
   "cell_type": "markdown",
   "metadata": {},
   "source": [
    "We can show the  first and second derivative of the cosine against the  \n",
    "\n",
    "first and second derivative of the NN.\n",
    "We see that the approximation \n",
    "\n",
    "is very good. \n",
    "\n",
    "Error on the first derivative: $7.10{-6}$ \n",
    "\n",
    "Error on the second derivative: $6.10^{-5}$"
   ]
  },
  {
   "cell_type": "code",
   "execution_count": 37,
   "metadata": {},
   "outputs": [],
   "source": [
    "dy_dx_graph = torch.autograd.grad(y,x,torch.ones_like(y),create_graph=True)[0]\n",
    "dy_dxx_graph = torch.autograd.grad(dy_dx_graph,x,torch.ones_like(dy_dx_graph),create_graph=True)[0]\n",
    "dy_detach = dy_dx_graph.detach()"
   ]
  },
  {
   "cell_type": "code",
   "execution_count": 38,
   "metadata": {},
   "outputs": [
    {
     "data": {
      "text/plain": [
       "<matplotlib.legend.Legend at 0x16641300940>"
      ]
     },
     "execution_count": 38,
     "metadata": {},
     "output_type": "execute_result"
    },
    {
     "data": {
      "image/png": "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",
      "text/plain": [
       "<Figure size 432x288 with 1 Axes>"
      ]
     },
     "metadata": {
      "needs_background": "light"
     },
     "output_type": "display_data"
    }
   ],
   "source": [
    "plt.plot(grid,dy_detach,label='First Derivative of NN')\n",
    "plt.plot(grid,-np.sin(grid),label='Negative Sine')\n",
    "plt.plot(grid,dy_dxx_graph.detach(),label='Second derivative of NN')\n",
    "plt.plot(grid,-np.cos(grid),label = 'Negative cosine')\n",
    "plt.legend()"
   ]
  },
  {
   "cell_type": "code",
   "execution_count": 45,
   "metadata": {},
   "outputs": [
    {
     "name": "stdout",
     "output_type": "stream",
     "text": [
      "Error on the first derivative 7.042058314254973e-06\n",
      "Error on the 2nd derivative 6.562042108271271e-05\n"
     ]
    }
   ],
   "source": [
    "e1 = criterion(dy_detach,-np.sin(grid))\n",
    "e2 = criterion(dy_dxx_graph,-np.cos(grid))\n",
    "print('Error on the first derivative',e1.item())\n",
    "print('Error on the 2nd derivative',e2.item())"
   ]
  }
  
