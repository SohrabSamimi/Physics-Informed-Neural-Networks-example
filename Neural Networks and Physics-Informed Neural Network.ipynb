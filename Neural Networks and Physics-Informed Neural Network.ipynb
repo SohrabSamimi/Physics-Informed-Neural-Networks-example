{
 "cells": [
  {
   "cell_type": "markdown",
   "metadata": {},
   "source": [
    "We import a few packages such as Pytorch, Matplotlib and Numpy:"
   ]
  },
  {
   "cell_type": "code",
   "execution_count": 1,
   "metadata": {},
   "outputs": [],
   "source": [
    "import torch\n",
    "import torch.nn as nn\n",
    "from torch.utils.data import Dataset,DataLoader\n",
    "import numpy as np\n",
    "import torch.optim\n",
    "import matplotlib.pyplot as plt\n",
    "import torch.autograd"
   ]
  },
  {
   "attachments": {},
   "cell_type": "markdown",
   "metadata": {},
   "source": [
    "We create our training and test data:\n",
    "\n",
    "we discretize the interval $[0,2\\pi]$ uniformly with 201 points.\n",
    "\n",
    "Then, we split this interval in train set $[0,5]$, and test set $[5,2\\pi]$."
   ]
  },
  {
   "cell_type": "code",
   "execution_count": 2,
   "metadata": {},
   "outputs": [],
   "source": [
    "mesh = torch.linspace(0,2*np.pi,201)\n",
    "cos_mesh = torch.cos(mesh)\n",
    "dataset = torch.stack((mesh,cos_mesh))\n",
    "nb_train = int(dataset.shape[1] *0.8)\n",
    "data_train = dataset[:,:nb_train]\n",
    "data_test = dataset[:,nb_train:]\n"
   ]
  },
  {
   "attachments": {},
   "cell_type": "markdown",
   "metadata": {},
   "source": [
    "Plot of the cosine function on $[0,2\\pi]$"
   ]
  },
  {
   "cell_type": "code",
   "execution_count": 3,
   "metadata": {},
   "outputs": [
    {
     "data": {
      "image/png": "[encoded data removed]",
      "text/plain": [
       "<Figure size 432x288 with 1 Axes>"
      ]
     },
     "metadata": {
      "needs_background": "light"
     },
     "output_type": "display_data"
    }
   ],
   "source": [
    "plt.plot(mesh,cos_mesh)\n",
    "plt.show()"
   ]
  },
  {
   "attachments": {},
   "cell_type": "markdown",
   "metadata": {},
   "source": [
    "We define our inputs and labels in the getitem method:"
   ]
  },
  {
   "cell_type": "code",
   "execution_count": 4,
   "metadata": {},
   "outputs": [],
   "source": [
    "class Cosine(Dataset):\n",
    "    def __init__(self,dataset):\n",
    "        super().__init__()\n",
    "\n",
    "        self.dataset = dataset\n",
    "\n",
    "    def __getitem__(self,idx):\n",
    "        return self.dataset[0,idx], self.dataset[1,idx]\n",
    "\n",
    "\n",
    "    def __len__(self):\n",
    "\n",
    "        return self.dataset.shape[1]   \n"
   ]
  },
  {
   "attachments": {},
   "cell_type": "markdown",
   "metadata": {},
   "source": [
    "Regular Neural Network class:"
   ]
  },
  {
   "cell_type": "code",
   "execution_count": 5,
   "metadata": {},
   "outputs": [],
   "source": [
    "class Neural_Net(nn.Module):\n",
    "    def __init__(self,nb_layers,input_dim,latent_dim,output_dim,activation):\n",
    "        super().__init__()\n",
    "\n",
    "        self.nb_layers = nb_layers\n",
    "        self.input_dim = input_dim\n",
    "        self.latent_dim = latent_dim\n",
    "        self.output_dim = output_dim\n",
    "        self.activation = activation\n",
    "        self.layers = nn.ModuleList([nn.Linear(input_dim,latent_dim)])\n",
    "        for i in range(self.nb_layers-1):\n",
    "            self.layers.append(nn.Linear(latent_dim,latent_dim))\n",
    "\n",
    "        self.last_layer = nn.Linear(latent_dim,output_dim)    \n",
    "\n",
    "    def forward(self,x):\n",
    "\n",
    "        inputs = [x]\n",
    "        for j in range(self.nb_layers):\n",
    "            a = self.layers[j](inputs[j])\n",
    "            \"\"\"do not forget ACTIVATION FUNCTION!\"\"\"\n",
    "            if j%2 == 0:\n",
    "                b = self.activation[0](a)\n",
    "            else:\n",
    "                b = self.activation[1](a)    \n",
    "            inputs.append(b)\n",
    "        \n",
    "        output = self.last_layer(inputs[-1])\n",
    "        return output      \n"
   ]
  },
  {
   "cell_type": "code",
   "execution_count": 6,
   "metadata": {},
   "outputs": [],
   "source": [
    "cos_train = Cosine(dataset=data_train)\n",
    "cos_test = Cosine(dataset=data_test)\n",
    "BATCH_SIZE = 25\n",
    "N_EPOCHS = 2000\n",
    "LR = 1e-3\n",
    "INPUT_DIM = 1\n",
    "LATENT_DIM = 20\n",
    "OUTPUT_DIM = 1\n",
    "activation = [nn.Tanh(),nn.Tanh()]\n",
    "NB_LAYERS = 3\n",
    "EVERY_EP = 200\n",
    "ALPHA = 0.1"
   ]
  },
  {
   "cell_type": "code",
   "execution_count": 7,
   "metadata": {},
   "outputs": [],
   "source": [
    "NN = Neural_Net(nb_layers=NB_LAYERS,input_dim=INPUT_DIM,latent_dim=LATENT_DIM,output_dim=OUTPUT_DIM,activation=activation)"
   ]
  },
  {
   "cell_type": "code",
   "execution_count": 8,
   "metadata": {},
   "outputs": [],
   "source": [
    "optimizer = torch.optim.Adam(NN.parameters(),lr=LR)"
   ]
  },
  {
   "cell_type": "code",
   "execution_count": 9,
   "metadata": {},
   "outputs": [],
   "source": [
    "train_loader = DataLoader(dataset=cos_train,batch_size=BATCH_SIZE,shuffle=True,drop_last=True)\n",
    "test_loader = DataLoader(dataset=cos_test,batch_size=BATCH_SIZE,shuffle=False,drop_last=True)"
   ]
  },
  {
   "attachments": {},
   "cell_type": "markdown",
   "metadata": {},
   "source": [
    "We train our baseline NN model with 2000 epochs:"
   ]
  },
  {
   "cell_type": "code",
   "execution_count": 10,
   "metadata": {},
   "outputs": [
    {
     "name": "stdout",
     "output_type": "stream",
     "text": [
      "Epoch: 0 , Loss Train: 0.4294688403606415, Loss Test: 0.4900086224079132\n"
     ]
    },
    {
     "name": "stdout",
     "output_type": "stream",
     "text": [
      "Epoch: 200 , Loss Train: 0.0006254479521885514, Loss Test: 0.04293614253401756\n",
      "Epoch: 400 , Loss Train: 3.4300945117138326e-05, Loss Test: 0.05147912725806236\n",
      "Epoch: 600 , Loss Train: 1.7573278455529362e-05, Loss Test: 0.052497752010822296\n",
      "Epoch: 800 , Loss Train: 5.271505142445676e-05, Loss Test: 0.05212582275271416\n",
      "Epoch: 1000 , Loss Train: 1.2198890544823371e-05, Loss Test: 0.05128859356045723\n",
      "Epoch: 1200 , Loss Train: 1.2250924555701204e-05, Loss Test: 0.05081864073872566\n",
      "Epoch: 1400 , Loss Train: 5.952324499958195e-05, Loss Test: 0.05085411295294762\n",
      "Epoch: 1600 , Loss Train: 5.35910548933316e-05, Loss Test: 0.050811078399419785\n",
      "Epoch: 1800 , Loss Train: 4.152085239184089e-05, Loss Test: 0.049933161586523056\n"
     ]
    }
   ],
   "source": [
    "loss_train = 0\n",
    "l=torch.tensor([0.])\n",
    "for epoch in range(N_EPOCHS):\n",
    "\n",
    "    \n",
    "\n",
    "\n",
    "    for n_batch,batch in enumerate(train_loader):\n",
    "        x,labels = batch\n",
    "        outputs = NN(x.view(BATCH_SIZE,INPUT_DIM))\n",
    "        \n",
    "        loss = torch.mean((outputs-labels.view(BATCH_SIZE,INPUT_DIM))**2)\n",
    "           \n",
    "\n",
    "        loss_train += loss.detach()\n",
    "        \n",
    "        loss.backward()\n",
    "        optimizer.step()\n",
    "        optimizer.zero_grad()\n",
    "\n",
    "    loss_train /= (len(train_loader.dataset))\n",
    "    loss_train *= BATCH_SIZE \n",
    "    \n",
    "    loss_test = 0\n",
    "    with torch.no_grad():\n",
    "        for n_batch,batch in enumerate(test_loader):\n",
    "            a,l =  batch \n",
    "\n",
    "            out = NN(a.view(BATCH_SIZE,INPUT_DIM))\n",
    "            \n",
    "            Loss = torch.mean((out-l)**2)    \n",
    "            loss_test += Loss.detach()\n",
    "        loss_test /= (len(test_loader.dataset)) \n",
    "        loss_test *= BATCH_SIZE       \n",
    "        \n",
    "        if epoch%EVERY_EP == 0:\n",
    "            print(f\"Epoch: {epoch} , Loss Train: {loss_train}, Loss Test: {loss_test}\")\n",
    "\n",
    "\n",
    "\n",
    "\n"
   ]
  },
  {
   "attachments": {},
   "cell_type": "markdown",
   "metadata": {},
   "source": [
    "We see here under that the model learns well on the training data, but does not have good performances on the test set."
   ]
  },
  {
   "cell_type": "code",
   "execution_count": 11,
   "metadata": {},
   "outputs": [
    {
     "data": {
      "text/plain": [
       "<matplotlib.legend.Legend at 0x23ddb426e80>"
      ]
     },
     "execution_count": 11,
     "metadata": {},
     "output_type": "execute_result"
    },
    {
     "data": {
      "image/png": "[encoded data removed]",
      "text/plain": [
       "<Figure size 432x288 with 1 Axes>"
      ]
     },
     "metadata": {
      "needs_background": "light"
     },
     "output_type": "display_data"
    }
   ],
   "source": [
    "import matplotlib.pyplot as plt\n",
    "\n",
    "grid = torch.linspace(0,2*np.pi,200).view(200,1)\n",
    "cos_grid = torch.cos(grid)\n",
    "y_prediction = NN(grid).detach()\n",
    "\n",
    "plt.plot(grid,cos_grid,label='Cosine')\n",
    "plt.plot(grid,y_prediction,label='Neural Net Prediction')\n",
    "plt.legend()\n",
    "\n"
   ]
  },
  {
   "cell_type": "markdown",
   "metadata": {},
   "source": [
    "We are now going to learn the Cosine function using a completely different method called\n",
    "\n",
    "Physics-Informed Neural Networks ($PINNs$):\n",
    "\n",
    "Consider the following differential equation with two initial conditions:\n",
    "\n",
    "\n",
    "$y''(x)+ y(x) = 0, x \\in [0,2\\pi] ,$\n",
    "            \n",
    "$y(0) = 1, $\n",
    "             \n",
    "$y'(0) = 0$\n",
    "\n",
    "\n",
    "\n",
    "\n",
    "\n",
    "\n",
    "\n"
   ]
  },
  {
   "cell_type": "markdown",
   "metadata": {},
   "source": [
    "\n",
    "\n",
    "We know this equation has a unique solution: the cosine.\n",
    "\n",
    "Neural Networks are universal approximators of continuous functions (on compact sets).\n",
    "\n",
    "The idea of PINNs is to parameterize $y$ as a Neural Network $y_\\theta$ :\n",
    "\n",
    "thanks to Automatic Differentiation and more particularly the torch.autograd package, we \n",
    "\n",
    "can compute the derivative $ \\frac{\\partial y}{\\partial x}$ (that is $y'$), and then $ \\frac{\\partial^2 y}{\\partial x^2}$(that is $y''$) at any point $x$,\n",
    "\n",
    " here we choose to evaluate at the points $x_k = \\frac{2k\\pi}{n} , k \\in{0,...,n}$ (and we decide that $n = 14$)."
   ]
  },
  {
   "cell_type": "markdown",
   "metadata": {},
   "source": [
    "Now let us consider the three following losses:\n",
    "\n",
    "$L_1 = (y_\\theta(0)-1)^2$  \n",
    "\n",
    "$L_2 = y'_\\theta(0)^2$   \n",
    "\n",
    "$L_3 = (\\sum_{k=1}^{n} y''(x_k) + y(x_k))^2$ \n",
    "\n",
    "\n",
    "Denoting the final loss $L_\\theta$, we have:\n",
    "\n",
    "$L_\\theta = \\frac{1}{n}(L_1+L_2+L_3)$\n",
    "\n",
    "and we will minimize $L_\\theta$ in order to get a solution that respects this differential equation."
   ]
  },
  {
   "cell_type": "code",
   "execution_count": 12,
   "metadata": {},
   "outputs": [],
   "source": [
    "Physics_NN = Neural_Net(nb_layers=2,input_dim=1,latent_dim=20,output_dim=1,activation=activation)"
   ]
  },
  {
   "cell_type": "code",
   "execution_count": 13,
   "metadata": {},
   "outputs": [
    {
     "name": "stderr",
     "output_type": "stream",
     "text": [
      "<ipython-input-13-5b15cc03685e>:5: MatplotlibDeprecationWarning: Case-insensitive properties were deprecated in 3.3 and support will be removed two minor releases later\n",
      "  plt.scatter(x.detach(),torch.cos(x.detach()),Color='g')\n"
     ]
    },
    {
     "data": {
      "text/plain": [
       "<matplotlib.collections.PathCollection at 0x23ddd463940>"
      ]
     },
     "execution_count": 13,
     "metadata": {},
     "output_type": "execute_result"
    },
    {
     "data": {
      "image/png": "[encoded data removed]",
      "text/plain": [
       "<Figure size 432x288 with 1 Axes>"
      ]
     },
     "metadata": {
      "needs_background": "light"
     },
     "output_type": "display_data"
    }
   ],
   "source": [
    "physics_optimizer = torch.optim.Adam(Physics_NN.parameters(),lr=LR)\n",
    "epochs = 5000\n",
    "nb_points = 15\n",
    "x = torch.linspace(0,2*np.pi,nb_points).view(nb_points,1).requires_grad_()\n",
    "plt.scatter(x.detach(),torch.cos(x.detach()),Color='g')\n"
   ]
  },
  {
   "cell_type": "markdown",
   "metadata": {},
   "source": [
    "Here under, we learn the parameters $\\theta$ : we expect to get a prediction that respects both the differential equation,\n",
    "\n",
    "and the initial conditions, thus should give a correct approximation of the cosine."
   ]
  },
  {
   "cell_type": "code",
   "execution_count": 14,
   "metadata": {},
   "outputs": [
    {
     "name": "stdout",
     "output_type": "stream",
     "text": [
      "loss 1.723625659942627 epoch 0\n",
      "loss 0.10285481810569763 epoch 100\n",
      "loss 0.08465363830327988 epoch 200\n",
      "loss 0.07546192407608032 epoch 300\n",
      "loss 0.06919681280851364 epoch 400\n",
      "loss 0.06374379247426987 epoch 500\n",
      "loss 0.05809992179274559 epoch 600\n",
      "loss 0.05192752555012703 epoch 700\n",
      "loss 0.04570543020963669 epoch 800\n",
      "loss 0.04028959944844246 epoch 900\n",
      "loss 0.03621300682425499 epoch 1000\n",
      "loss 0.03337540850043297 epoch 1100\n",
      "loss 0.031379975378513336 epoch 1200\n",
      "loss 0.029895108193159103 epoch 1300\n",
      "loss 0.028726212680339813 epoch 1400\n",
      "loss 0.027765052393078804 epoch 1500\n",
      "loss 0.026947319507598877 epoch 1600\n",
      "loss 0.02623358927667141 epoch 1700\n",
      "loss 0.025600004941225052 epoch 1800\n",
      "loss 0.02503145858645439 epoch 1900\n",
      "loss 0.024517104029655457 epoch 2000\n",
      "loss 0.024041729047894478 epoch 2100\n",
      "loss 0.023581361398100853 epoch 2200\n",
      "loss 0.02309424616396427 epoch 2300\n",
      "loss 0.02250559628009796 epoch 2400\n",
      "loss 0.02170843444764614 epoch 2500\n",
      "loss 0.020589176565408707 epoch 2600\n",
      "loss 0.019004276022315025 epoch 2700\n",
      "loss 0.017159072682261467 epoch 2800\n",
      "loss 0.015406439080834389 epoch 2900\n",
      "loss 0.013529432006180286 epoch 3000\n",
      "loss 0.011683407239615917 epoch 3100\n",
      "loss 0.009877468459308147 epoch 3200\n",
      "loss 0.00721899326890707 epoch 3300\n",
      "loss 0.003812917973846197 epoch 3400\n",
      "loss 0.0013449412072077394 epoch 3500\n",
      "loss 0.00037662836257368326 epoch 3600\n",
      "loss 0.00011989784252364188 epoch 3700\n",
      "loss 5.8027984778163955e-05 epoch 3800\n",
      "loss 3.6927049222867936e-05 epoch 3900\n",
      "loss 2.6609955966705456e-05 epoch 4000\n",
      "loss 2.0443512767087668e-05 epoch 4100\n",
      "loss 1.6219299141084775e-05 epoch 4200\n",
      "loss 1.3063323422102258e-05 epoch 4300\n",
      "loss 1.0608356205921154e-05 epoch 4400\n",
      "loss 8.654701559862588e-06 epoch 4500\n",
      "loss 7.065755653457018e-06 epoch 4600\n",
      "loss 5.758755833085161e-06 epoch 4700\n",
      "loss 4.732366960524814e-06 epoch 4800\n",
      "loss 3.78756772079214e-06 epoch 4900\n"
     ]
    }
   ],
   "source": [
    "for ep in range(epochs):\n",
    "    \n",
    "        \n",
    "    y = Physics_NN(x)\n",
    "    dy_dx = torch.autograd.grad(y,x,torch.ones_like(y),create_graph=True)[0] ###first derivative of y w.r.t x\n",
    "    \n",
    "    dy_dxx = torch.autograd.grad(dy_dx,x,torch.ones_like(dy_dx),create_graph=True)[0] ### second derivative of y w.r.t x\n",
    "    loss_ic_y = (y[0]-1)**2   ### ic stands for initial condition, initial condition y(0) = 1\n",
    "    loss_ic_dy = (dy_dx[0])**2   ### initial condition on the first derivative y'(0) = 0\n",
    "    loss_physics = (dy_dxx+y)**2    ### we define y''+ y  \n",
    "    loss = loss_ic_y + loss_ic_dy + torch.mean(loss_physics)\n",
    "        \n",
    "    loss.backward()\n",
    "    physics_optimizer.step()  ### we minimize the sum of loss_physics and the two ic's so that the Differential Equation loss is small and also the IC terms are small\n",
    "    physics_optimizer.zero_grad()   \n",
    "     \n",
    "\n",
    "    if ep%100==0:\n",
    "        print('loss',loss.item(),'epoch',ep)\n",
    "\n",
    "    \n",
    "    \n",
    "\n",
    "\n",
    "    "
   ]
  },
  {
   "cell_type": "markdown",
   "metadata": {},
   "source": [
    "In the beggining we only had $15$ points. Below we discretize more densely ($500$ points).\n",
    "\n",
    " We do not see any difference between the true Cosine function and the Neural Network prediction.\n",
    "\n",
    "With only $15$ 'data' points, the Physics-Informed Neural Network method performs very well.\n",
    "\n",
    "We do not need many points to obtain a good result (at least in dimension $1$)."
   ]
  },
  {
   "cell_type": "code",
   "execution_count": 15,
   "metadata": {},
   "outputs": [
    {
     "data": {
      "text/plain": [
       "<matplotlib.legend.Legend at 0x23ddb378f70>"
      ]
     },
     "execution_count": 15,
     "metadata": {},
     "output_type": "execute_result"
    },
    {
     "data": {
      "image/png": "[encoded data removed]",
      "text/plain": [
       "<Figure size 432x288 with 1 Axes>"
      ]
     },
     "metadata": {
      "needs_background": "light"
     },
     "output_type": "display_data"
    }
   ],
   "source": [
    "import matplotlib.pyplot as plt\n",
    "\n",
    "grid = torch.linspace(0,2*np.pi,500).view(500,1).detach()\n",
    "\n",
    "cos_grid = np.cos(grid)\n",
    "physics_prediction = Physics_NN(grid).detach()\n",
    "plt.scatter(x.detach(),torch.cos(x.detach()),color='g',label='Selected Points')\n",
    "plt.plot(grid,cos_grid,label='True Cosine')\n",
    "plt.plot(grid,physics_prediction,label='Neural Network Prediction')\n",
    "plt.legend()"
   ]
  },
  {
   "cell_type": "markdown",
   "metadata": {},
   "source": [
    "We can compute the Mean Squared Error between our $NN$ prediction and the true solution:\n",
    "\n",
    "the error is around $8.10^{-5}$ which is very low."
   ]
  },
  {
   "cell_type": "code",
   "execution_count": 16,
   "metadata": {},
   "outputs": [],
   "source": [
    "criterion = nn.MSELoss()"
   ]
  },
  {
   "cell_type": "code",
   "execution_count": 17,
   "metadata": {},
   "outputs": [
    {
     "name": "stdout",
     "output_type": "stream",
     "text": [
      "Mean Square Error 7.960153016028926e-05\n"
     ]
    }
   ],
   "source": [
    "print('Mean Square Error',criterion(physics_prediction,torch.cos(grid)).item())"
   ]
  }
 ],
 "metadata": {
  "kernelspec": {
   "display_name": "siren",
   "language": "python",
   "name": "python3"
  },
  "language_info": {
   "codemirror_mode": {
    "name": "ipython",
    "version": 3
   },
   "file_extension": ".py",
   "mimetype": "text/x-python",
   "name": "python",
   "nbconvert_exporter": "python",
   "pygments_lexer": "ipython3",
   "version": "3.8.8"
  },
  "orig_nbformat": 4
 },
 "nbformat": 4,
 "nbformat_minor": 2
}
